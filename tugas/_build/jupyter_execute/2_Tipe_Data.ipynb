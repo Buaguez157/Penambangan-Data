{
 "cells": [
  {
   "cell_type": "markdown",
   "metadata": {
    "id": "9LHWTDGv5zhh"
   },
   "source": [
    "# ***Tipe Data Understanding & Deteksi Outlier Menggunakan KNN***"
   ]
  },
  {
   "cell_type": "markdown",
   "metadata": {
    "id": "05NcJiqY6cvl"
   },
   "source": [
    "Sebelum memasuki materi selanjutnya, berikut akan ditampilkan hasil setelah data IRIS diubah."
   ]
  },
  {
   "cell_type": "code",
   "execution_count": 1,
   "metadata": {
    "colab": {
     "base_uri": "https://localhost:8080/",
     "height": 1000
    },
    "id": "xfakTrvlEHLN",
    "outputId": "887ffac5-51b7-4264-df55-ce644c86accb"
   },
   "outputs": [
    {
     "name": "stdout",
     "output_type": "stream",
     "text": [
      "Collecting mysql-connector-python\r\n",
      "  Downloading mysql_connector_python-9.3.0-cp312-cp312-manylinux_2_28_x86_64.whl.metadata (7.5 kB)\r\n"
     ]
    },
    {
     "name": "stdout",
     "output_type": "stream",
     "text": [
      "Collecting psycopg2\r\n",
      "  Downloading psycopg2-2.9.10.tar.gz (385 kB)\r\n"
     ]
    },
    {
     "name": "stdout",
     "output_type": "stream",
     "text": [
      "  Preparing metadata (setup.py) ... \u001b[?25l-"
     ]
    },
    {
     "name": "stdout",
     "output_type": "stream",
     "text": [
      "\b \b\\"
     ]
    },
    {
     "name": "stdout",
     "output_type": "stream",
     "text": [
      "\b \bdone\r\n",
      "\u001b[?25hDownloading mysql_connector_python-9.3.0-cp312-cp312-manylinux_2_28_x86_64.whl (33.9 MB)\r\n",
      "\u001b[?25l   \u001b[38;5;237m━━━━━━━━━━━━━━━━━━━━━━━━━━━━━━━━━━━━━━━━\u001b[0m \u001b[32m0.0/33.9 MB\u001b[0m \u001b[31m?\u001b[0m eta \u001b[36m-:--:--\u001b[0m"
     ]
    },
    {
     "name": "stdout",
     "output_type": "stream",
     "text": [
      "\r",
      "\u001b[2K   \u001b[38;2;249;38;114m━━━━━━━━━━━━━━━━━━━━━━━━━━━━━━━━━━━━━━━\u001b[0m\u001b[38;2;249;38;114m╸\u001b[0m \u001b[32m33.8/33.9 MB\u001b[0m \u001b[31m278.1 MB/s\u001b[0m eta \u001b[36m0:00:01\u001b[0m"
     ]
    },
    {
     "name": "stdout",
     "output_type": "stream",
     "text": [
      "\r",
      "\u001b[2K   \u001b[38;2;249;38;114m━━━━━━━━━━━━━━━━━━━━━━━━━━━━━━━━━━━━━━━\u001b[0m\u001b[38;2;249;38;114m╸\u001b[0m \u001b[32m33.8/33.9 MB\u001b[0m \u001b[31m278.1 MB/s\u001b[0m eta \u001b[36m0:00:01\u001b[0m"
     ]
    },
    {
     "name": "stdout",
     "output_type": "stream",
     "text": [
      "\r",
      "\u001b[2K   \u001b[38;2;114;156;31m━━━━━━━━━━━━━━━━━━━━━━━━━━━━━━━━━━━━━━━━\u001b[0m \u001b[32m33.9/33.9 MB\u001b[0m \u001b[31m59.1 MB/s\u001b[0m eta \u001b[36m0:00:00\u001b[0m\r\n",
      "\u001b[?25hBuilding wheels for collected packages: psycopg2\r\n"
     ]
    },
    {
     "name": "stdout",
     "output_type": "stream",
     "text": [
      "  Building wheel for psycopg2 (setup.py) ... \u001b[?25l-"
     ]
    },
    {
     "name": "stdout",
     "output_type": "stream",
     "text": [
      "\b \b\\"
     ]
    },
    {
     "name": "stdout",
     "output_type": "stream",
     "text": [
      "\b \b|"
     ]
    },
    {
     "name": "stdout",
     "output_type": "stream",
     "text": [
      "\b \b/"
     ]
    },
    {
     "name": "stdout",
     "output_type": "stream",
     "text": [
      "\b \b-"
     ]
    },
    {
     "name": "stdout",
     "output_type": "stream",
     "text": [
      "\b \b\\"
     ]
    },
    {
     "name": "stdout",
     "output_type": "stream",
     "text": [
      "\b \b|"
     ]
    },
    {
     "name": "stdout",
     "output_type": "stream",
     "text": [
      "\b \b/"
     ]
    },
    {
     "name": "stdout",
     "output_type": "stream",
     "text": [
      "\b \b-"
     ]
    },
    {
     "name": "stdout",
     "output_type": "stream",
     "text": [
      "\b \b\\"
     ]
    },
    {
     "name": "stdout",
     "output_type": "stream",
     "text": [
      "\b \b|"
     ]
    },
    {
     "name": "stdout",
     "output_type": "stream",
     "text": [
      "\b \b/"
     ]
    },
    {
     "name": "stdout",
     "output_type": "stream",
     "text": [
      "\b \b-"
     ]
    },
    {
     "name": "stdout",
     "output_type": "stream",
     "text": [
      "\b \b\\"
     ]
    },
    {
     "name": "stdout",
     "output_type": "stream",
     "text": [
      "\b \b|"
     ]
    },
    {
     "name": "stdout",
     "output_type": "stream",
     "text": [
      "\b \b/"
     ]
    },
    {
     "name": "stdout",
     "output_type": "stream",
     "text": [
      "\b \b-"
     ]
    },
    {
     "name": "stdout",
     "output_type": "stream",
     "text": [
      "\b \b\\"
     ]
    },
    {
     "name": "stdout",
     "output_type": "stream",
     "text": [
      "\b \b|"
     ]
    },
    {
     "name": "stdout",
     "output_type": "stream",
     "text": [
      "\b \b/"
     ]
    },
    {
     "name": "stdout",
     "output_type": "stream",
     "text": [
      "\b \b-"
     ]
    },
    {
     "name": "stdout",
     "output_type": "stream",
     "text": [
      "\b \b\\"
     ]
    },
    {
     "name": "stdout",
     "output_type": "stream",
     "text": [
      "\b \b|"
     ]
    },
    {
     "name": "stdout",
     "output_type": "stream",
     "text": [
      "\b \b/"
     ]
    },
    {
     "name": "stdout",
     "output_type": "stream",
     "text": [
      "\b \b-"
     ]
    },
    {
     "name": "stdout",
     "output_type": "stream",
     "text": [
      "\b \b\\"
     ]
    },
    {
     "name": "stdout",
     "output_type": "stream",
     "text": [
      "\b \b|"
     ]
    },
    {
     "name": "stdout",
     "output_type": "stream",
     "text": [
      "\b \b/"
     ]
    },
    {
     "name": "stdout",
     "output_type": "stream",
     "text": [
      "\b \b-"
     ]
    },
    {
     "name": "stdout",
     "output_type": "stream",
     "text": [
      "\b \b\\"
     ]
    },
    {
     "name": "stdout",
     "output_type": "stream",
     "text": [
      "\b \b|"
     ]
    },
    {
     "name": "stdout",
     "output_type": "stream",
     "text": [
      "\b \b/"
     ]
    },
    {
     "name": "stdout",
     "output_type": "stream",
     "text": [
      "\b \b-"
     ]
    },
    {
     "name": "stdout",
     "output_type": "stream",
     "text": [
      "\b \b\\"
     ]
    },
    {
     "name": "stdout",
     "output_type": "stream",
     "text": [
      "\b \b|"
     ]
    },
    {
     "name": "stdout",
     "output_type": "stream",
     "text": [
      "\b \b/\b \bdone\r\n"
     ]
    },
    {
     "name": "stdout",
     "output_type": "stream",
     "text": [
      "\u001b[?25h  Created wheel for psycopg2: filename=psycopg2-2.9.10-cp312-cp312-linux_x86_64.whl size=635638 sha256=c9b35e00b8adac4082760dcf00b7d212bcbe320f36d7a136ec88d38bea898551\r\n",
      "  Stored in directory: /home/codespace/.cache/pip/wheels/ac/bb/ce/afa589c50b6004d3a06fc691e71bd09c9bd5f01e5921e5329b\r\n",
      "Successfully built psycopg2\r\n"
     ]
    },
    {
     "name": "stdout",
     "output_type": "stream",
     "text": [
      "Installing collected packages: psycopg2, mysql-connector-python\r\n"
     ]
    },
    {
     "name": "stdout",
     "output_type": "stream",
     "text": [
      "Successfully installed mysql-connector-python-9.3.0 psycopg2-2.9.10\r\n"
     ]
    },
    {
     "name": "stdout",
     "output_type": "stream",
     "text": [
      "\r\n",
      "\u001b[1m[\u001b[0m\u001b[34;49mnotice\u001b[0m\u001b[1;39;49m]\u001b[0m\u001b[39;49m A new release of pip is available: \u001b[0m\u001b[31;49m25.0.1\u001b[0m\u001b[39;49m -> \u001b[0m\u001b[32;49m25.1.1\u001b[0m\r\n",
      "\u001b[1m[\u001b[0m\u001b[34;49mnotice\u001b[0m\u001b[1;39;49m]\u001b[0m\u001b[39;49m To update, run: \u001b[0m\u001b[32;49mpython3 -m pip install --upgrade pip\u001b[0m\r\n"
     ]
    },
    {
     "ename": "DatabaseError",
     "evalue": "2005 (HY000): Unknown MySQL server host 'irismysql-2739-irismysql-2739.l.aivencloud.com' (-2)",
     "output_type": "error",
     "traceback": [
      "\u001b[31m---------------------------------------------------------------------------\u001b[39m",
      "\u001b[31mMySQLInterfaceError\u001b[39m                       Traceback (most recent call last)",
      "\u001b[36mFile \u001b[39m\u001b[32m/usr/local/python/3.12.1/lib/python3.12/site-packages/mysql/connector/connection_cext.py:354\u001b[39m, in \u001b[36mCMySQLConnection._open_connection\u001b[39m\u001b[34m(self)\u001b[39m\n\u001b[32m    353\u001b[39m \u001b[38;5;28;01mtry\u001b[39;00m:\n\u001b[32m--> \u001b[39m\u001b[32m354\u001b[39m     \u001b[38;5;28;43mself\u001b[39;49m\u001b[43m.\u001b[49m\u001b[43m_cmysql\u001b[49m\u001b[43m.\u001b[49m\u001b[43mconnect\u001b[49m\u001b[43m(\u001b[49m\u001b[43m*\u001b[49m\u001b[43m*\u001b[49m\u001b[43mcnx_kwargs\u001b[49m\u001b[43m)\u001b[49m\n\u001b[32m    355\u001b[39m     \u001b[38;5;28mself\u001b[39m._cmysql.converter_str_fallback = \u001b[38;5;28mself\u001b[39m._converter_str_fallback\n",
      "\u001b[31mMySQLInterfaceError\u001b[39m: Unknown MySQL server host 'irismysql-2739-irismysql-2739.l.aivencloud.com' (-2)",
      "\nThe above exception was the direct cause of the following exception:\n",
      "\u001b[31mDatabaseError\u001b[39m                             Traceback (most recent call last)",
      "\u001b[36mCell\u001b[39m\u001b[36m \u001b[39m\u001b[32mIn[1]\u001b[39m\u001b[32m, line 6\u001b[39m\n\u001b[32m      3\u001b[39m \u001b[38;5;28;01mimport\u001b[39;00m\u001b[38;5;250m \u001b[39m\u001b[34;01mmysql\u001b[39;00m\u001b[34;01m.\u001b[39;00m\u001b[34;01mconnector\u001b[39;00m\n\u001b[32m      5\u001b[39m \u001b[38;5;66;03m# Koneksi ke MySQL\u001b[39;00m\n\u001b[32m----> \u001b[39m\u001b[32m6\u001b[39m mysql_conn = \u001b[43mmysql\u001b[49m\u001b[43m.\u001b[49m\u001b[43mconnector\u001b[49m\u001b[43m.\u001b[49m\u001b[43mconnect\u001b[49m\u001b[43m(\u001b[49m\n\u001b[32m      7\u001b[39m \u001b[43m    \u001b[49m\u001b[43mhost\u001b[49m\u001b[43m=\u001b[49m\u001b[33;43m\"\u001b[39;49m\u001b[33;43mirismysql-2739-irismysql-2739.l.aivencloud.com\u001b[39;49m\u001b[33;43m\"\u001b[39;49m\u001b[43m,\u001b[49m\u001b[43m  \u001b[49m\u001b[38;5;66;43;03m# Ganti dengan host MySQL Anda\u001b[39;49;00m\n\u001b[32m      8\u001b[39m \u001b[43m    \u001b[49m\u001b[43muser\u001b[49m\u001b[43m=\u001b[49m\u001b[33;43m\"\u001b[39;49m\u001b[33;43mavnadmin\u001b[39;49m\u001b[33;43m\"\u001b[39;49m\u001b[43m,\u001b[49m\u001b[43m       \u001b[49m\u001b[38;5;66;43;03m# Ganti dengan username Anda\u001b[39;49;00m\n\u001b[32m      9\u001b[39m \u001b[43m    \u001b[49m\u001b[43mpassword\u001b[49m\u001b[43m=\u001b[49m\u001b[33;43m\"\u001b[39;49m\u001b[33;43mAVNS_dO1A9DrK7DsaNfwz8pv\u001b[39;49m\u001b[33;43m\"\u001b[39;49m\u001b[43m,\u001b[49m\u001b[43m \u001b[49m\u001b[38;5;66;43;03m# Ganti dengan password Anda\u001b[39;49;00m\n\u001b[32m     10\u001b[39m \u001b[43m    \u001b[49m\u001b[43mdatabase\u001b[49m\u001b[43m=\u001b[49m\u001b[33;43m\"\u001b[39;49m\u001b[33;43mirismysql-2739\u001b[39;49m\u001b[33;43m\"\u001b[39;49m\u001b[43m,\u001b[49m\u001b[43m  \u001b[49m\u001b[38;5;66;43;03m# Ganti dengan nama database MySQL Anda\u001b[39;49;00m\n\u001b[32m     11\u001b[39m \u001b[43m    \u001b[49m\u001b[43mport\u001b[49m\u001b[43m=\u001b[49m\u001b[32;43m19667\u001b[39;49m\u001b[43m,\u001b[49m\u001b[43m  \u001b[49m\u001b[38;5;66;43;03m# Tentukan port yang diinginkan (19667)\u001b[39;49;00m\n\u001b[32m     12\u001b[39m \u001b[43m)\u001b[49m\n\u001b[32m     14\u001b[39m \u001b[38;5;66;03m# Membuat cursor\u001b[39;00m\n\u001b[32m     15\u001b[39m mysql_cursor = mysql_conn.cursor()\n",
      "\u001b[36mFile \u001b[39m\u001b[32m/usr/local/python/3.12.1/lib/python3.12/site-packages/mysql/connector/pooling.py:322\u001b[39m, in \u001b[36mconnect\u001b[39m\u001b[34m(*args, **kwargs)\u001b[39m\n\u001b[32m    319\u001b[39m         \u001b[38;5;28;01mraise\u001b[39;00m \u001b[38;5;167;01mImportError\u001b[39;00m(ERROR_NO_CEXT)\n\u001b[32m    321\u001b[39m \u001b[38;5;28;01mif\u001b[39;00m CMySQLConnection \u001b[38;5;129;01mand\u001b[39;00m \u001b[38;5;129;01mnot\u001b[39;00m use_pure:\n\u001b[32m--> \u001b[39m\u001b[32m322\u001b[39m     \u001b[38;5;28;01mreturn\u001b[39;00m \u001b[43mCMySQLConnection\u001b[49m\u001b[43m(\u001b[49m\u001b[43m*\u001b[49m\u001b[43margs\u001b[49m\u001b[43m,\u001b[49m\u001b[43m \u001b[49m\u001b[43m*\u001b[49m\u001b[43m*\u001b[49m\u001b[43mkwargs\u001b[49m\u001b[43m)\u001b[49m\n\u001b[32m    323\u001b[39m \u001b[38;5;28;01mreturn\u001b[39;00m MySQLConnection(*args, **kwargs)\n",
      "\u001b[36mFile \u001b[39m\u001b[32m/usr/local/python/3.12.1/lib/python3.12/site-packages/mysql/connector/connection_cext.py:142\u001b[39m, in \u001b[36mCMySQLConnection.__init__\u001b[39m\u001b[34m(self, **kwargs)\u001b[39m\n\u001b[32m    140\u001b[39m \u001b[38;5;28;01mif\u001b[39;00m kwargs:\n\u001b[32m    141\u001b[39m     \u001b[38;5;28;01mtry\u001b[39;00m:\n\u001b[32m--> \u001b[39m\u001b[32m142\u001b[39m         \u001b[38;5;28;43mself\u001b[39;49m\u001b[43m.\u001b[49m\u001b[43mconnect\u001b[49m\u001b[43m(\u001b[49m\u001b[43m*\u001b[49m\u001b[43m*\u001b[49m\u001b[43mkwargs\u001b[49m\u001b[43m)\u001b[49m\n\u001b[32m    143\u001b[39m     \u001b[38;5;28;01mexcept\u001b[39;00m \u001b[38;5;167;01mException\u001b[39;00m:\n\u001b[32m    144\u001b[39m         \u001b[38;5;28mself\u001b[39m.close()\n",
      "\u001b[36mFile \u001b[39m\u001b[32m/usr/local/python/3.12.1/lib/python3.12/site-packages/mysql/connector/abstracts.py:1605\u001b[39m, in \u001b[36mMySQLConnectionAbstract.connect\u001b[39m\u001b[34m(self, **kwargs)\u001b[39m\n\u001b[32m   1602\u001b[39m     \u001b[38;5;28mself\u001b[39m.config(**kwargs)\n\u001b[32m   1604\u001b[39m \u001b[38;5;28mself\u001b[39m.disconnect()\n\u001b[32m-> \u001b[39m\u001b[32m1605\u001b[39m \u001b[38;5;28;43mself\u001b[39;49m\u001b[43m.\u001b[49m\u001b[43m_open_connection\u001b[49m\u001b[43m(\u001b[49m\u001b[43m)\u001b[49m\n\u001b[32m   1607\u001b[39m charset, collation = (\n\u001b[32m   1608\u001b[39m     kwargs.pop(\u001b[33m\"\u001b[39m\u001b[33mcharset\u001b[39m\u001b[33m\"\u001b[39m, \u001b[38;5;28;01mNone\u001b[39;00m),\n\u001b[32m   1609\u001b[39m     kwargs.pop(\u001b[33m\"\u001b[39m\u001b[33mcollation\u001b[39m\u001b[33m\"\u001b[39m, \u001b[38;5;28;01mNone\u001b[39;00m),\n\u001b[32m   1610\u001b[39m )\n\u001b[32m   1611\u001b[39m \u001b[38;5;28;01mif\u001b[39;00m charset \u001b[38;5;129;01mor\u001b[39;00m collation:\n",
      "\u001b[36mFile \u001b[39m\u001b[32m/usr/local/python/3.12.1/lib/python3.12/site-packages/mysql/connector/connection_cext.py:360\u001b[39m, in \u001b[36mCMySQLConnection._open_connection\u001b[39m\u001b[34m(self)\u001b[39m\n\u001b[32m    358\u001b[39m \u001b[38;5;28;01mexcept\u001b[39;00m MySQLInterfaceError \u001b[38;5;28;01mas\u001b[39;00m err:\n\u001b[32m    359\u001b[39m     \u001b[38;5;28;01mif\u001b[39;00m \u001b[38;5;28mhasattr\u001b[39m(err, \u001b[33m\"\u001b[39m\u001b[33merrno\u001b[39m\u001b[33m\"\u001b[39m):\n\u001b[32m--> \u001b[39m\u001b[32m360\u001b[39m         \u001b[38;5;28;01mraise\u001b[39;00m get_mysql_exception(\n\u001b[32m    361\u001b[39m             err.errno, msg=err.msg, sqlstate=err.sqlstate\n\u001b[32m    362\u001b[39m         ) \u001b[38;5;28;01mfrom\u001b[39;00m\u001b[38;5;250m \u001b[39m\u001b[34;01merr\u001b[39;00m\n\u001b[32m    363\u001b[39m     \u001b[38;5;28;01mraise\u001b[39;00m InterfaceError(\u001b[38;5;28mstr\u001b[39m(err)) \u001b[38;5;28;01mfrom\u001b[39;00m\u001b[38;5;250m \u001b[39m\u001b[34;01merr\u001b[39;00m\n\u001b[32m    365\u001b[39m \u001b[38;5;28mself\u001b[39m._do_handshake()\n",
      "\u001b[31mDatabaseError\u001b[39m: 2005 (HY000): Unknown MySQL server host 'irismysql-2739-irismysql-2739.l.aivencloud.com' (-2)"
     ]
    }
   ],
   "source": [
    "!pip install mysql-connector-python psycopg2\n",
    "\n",
    "import mysql.connector\n",
    "\n",
    "# Koneksi ke MySQL\n",
    "mysql_conn = mysql.connector.connect(\n",
    "    host=\"irismysql-2739-irismysql-2739.l.aivencloud.com\",  # Ganti dengan host MySQL Anda\n",
    "    user=\"avnadmin\",       # Ganti dengan username Anda\n",
    "    password=\"AVNS_dO1A9DrK7DsaNfwz8pv\", # Ganti dengan password Anda\n",
    "    database=\"irismysql-2739\",  # Ganti dengan nama database MySQL Anda\n",
    "    port=19667,  # Tentukan port yang diinginkan (19667)\n",
    ")\n",
    "\n",
    "# Membuat cursor\n",
    "mysql_cursor = mysql_conn.cursor()\n",
    "\n",
    "# Mengambil data dari MySQL\n",
    "mysql_query = \"SELECT * FROM irismysql_2739\"  # Ganti dengan query Anda\n",
    "mysql_cursor.execute(mysql_query)\n",
    "mysql_data = mysql_cursor.fetchall()\n",
    "print(\"Data mysql: \", mysql_data)\n",
    "\n",
    "import psycopg2\n",
    "\n",
    "# Koneksi ke PostgreSQL\n",
    "postgres_conn = psycopg2.connect(\n",
    "    host=\"irispostgresql-2739-irispostgresql-2739.l.aivencloud.com\",  # Ganti dengan host PostgreSQL Anda\n",
    "    database=\"defaultdb\",  # Ganti dengan nama database PostgreSQL Anda\n",
    "    user=\"avnadmin\",  # Ganti dengan username Anda\n",
    "    password=\"AVNS_VpqImPpZAlNzgDMQvOp\",  # Ganti dengan password Anda\n",
    "    port=15320  # Tentukan port yang diinginkan (15320)\n",
    ")\n",
    "\n",
    "# Membuat cursor\n",
    "postgres_cursor = postgres_conn.cursor()\n",
    "\n",
    "# Mengambil data dari PostgreSQL\n",
    "postgres_query = \"SELECT * FROM \\\"irispostgresql-2739\\\".irispostgresql\"  # Ganti dengan query Anda\n",
    "postgres_cursor.execute(postgres_query)\n",
    "postgres_data = postgres_cursor.fetchall()\n",
    "print(\"Data postgress: \", postgres_data)\n",
    "\n",
    "import pandas as pd\n",
    "\n",
    "# Mengonversi ke DataFrame Pandas\n",
    "mysql_df = pd.DataFrame(mysql_data, columns=[desc[0] for desc in mysql_cursor.description])\n",
    "postgres_df = pd.DataFrame(postgres_data, columns=[desc[0] for desc in postgres_cursor.description])\n",
    "\n",
    "# Menggabungkan kedua DataFrame\n",
    "combined_df = pd.concat([mysql_df, postgres_df], ignore_index=True)\n",
    "\n",
    "# Menggabungkan berdasarkan kolom tertentu\n",
    "combined_df = pd.merge(mysql_df, postgres_df, on=[\"id\", \"Class\"], how=\"outer\")  # Ganti \"id\" dengan kolom yang sesuai\n",
    "print(\"Data Gabungan: \")\n",
    "print(combined_df)\n",
    "\n",
    "import seaborn as sns\n",
    "import matplotlib.pyplot as plt\n",
    "\n",
    "# Melihat 5 baris pertama dari mysql_df\n",
    "print(\"Data 5 baris pertama dari MySQL:\")\n",
    "print(mysql_df.head())\n",
    "\n",
    "# Melihat 5 baris pertama dari postgres_df\n",
    "print(\"\\nData 5 baris pertama dari PostgreSQL:\")\n",
    "print(postgres_df.head())\n",
    "\n",
    "# Melihat 5 baris pertama dari combined_df\n",
    "print(\"\\n5 baris pertama Data Gabungan:\")\n",
    "print(combined_df.head())  # Menampilkan 5 baris pertama\n",
    "print(\"\\nInformasi Data Gabungan:\")\n",
    "print(combined_df.columns) # Menampilkan daftar kolom\n",
    "\n",
    "# Pilih hanya kolom numerik\n",
    "numeric_df = combined_df.select_dtypes(include=['float64', 'int64'])\n",
    "# Korelasi antar kolom numerik\n",
    "correlation_matrix = numeric_df.corr() #menghitung matriks korelasi antar kolom numerik dalam dataset.\n",
    "\n",
    "# Menampilkan heatmap korelasi\n",
    "plt.figure(figsize=(10, 8))\n",
    "sns.heatmap(correlation_matrix, annot=True, cmap=\"coolwarm\", fmt=\".2f\") #untuk menunjukkan hubungan antara kolom.\n",
    "plt.title(\"Matriks Korelasi\")\n",
    "plt.show()\n",
    "\n",
    "# Visualisasi hubungan antar fitur (misalnya, scatter plot)\n",
    "print(\"\\nVisualisasi Hubungan Antar Fitur:\")\n",
    "if \"sepal length\" in combined_df.columns and \"sepal width\" in combined_df.columns and \"Class\" in combined_df.columns: # Pastikan combined_df memiliki kolom 'species' untuk membedakan warna\n",
    "    species_colors = {'Iris-setosa': 'blue', 'Iris-versicolor': 'red', 'Iris-virginica': 'green'}\n",
    "    plt.figure(figsize=(8, 6))\n",
    "\n",
    "    # Menggunakan matplotlib tanpa seaborn untuk scatter plot dengan warna berdasarkan spesies\n",
    "    for species, color in species_colors.items():\n",
    "        subset = combined_df[combined_df[\"Class\"] == species]\n",
    "        plt.scatter(subset[\"sepal length\"], subset[\"sepal width\"], label=species, color=color, edgecolors=\"black\")\n",
    "\n",
    "    plt.title(\"Sepal Length vs Sepal Width\")\n",
    "    plt.xlabel('Sepal Length')\n",
    "    plt.ylabel('Sepal Width')\n",
    "    plt.legend(title='Class')\n",
    "    plt.grid()\n",
    "    plt.show()\n",
    "\n",
    "import seaborn as sns\n",
    "\n",
    "print(\"Informasi Tipe Data:\")\n",
    "print(combined_df.info())\n",
    "\n",
    "print(\"\\nStatistik Deskriptif:\")\n",
    "print(combined_df.describe())  # Statistik deskriptif\n",
    "\n",
    "print(\"\\nJumlah Missing Values:\")\n",
    "print(combined_df.isnull().sum())  # Cek missing values\n",
    "\n",
    "print(\"\\nJumlah Data Duplikat:\")\n",
    "print(combined_df.duplicated().sum())  # Cek data duplikat\n",
    "\n",
    "print(\"Distribusi Data Iris\")\n",
    "# Membuat subplots dengan 2 baris dan 2 kolom untuk 4 histogram\n",
    "fig, axes = plt.subplots(2, 2, figsize=(12, 10))\n",
    "\n",
    "# Membuat histogram untuk setiap kolom di combined_df\n",
    "sns.histplot(combined_df['sepal length'], kde=True, ax=axes[0, 0])\n",
    "axes[0, 0].set_title('Distribusi Sepal Length')\n",
    "\n",
    "sns.histplot(combined_df['sepal width'], kde=True, ax=axes[0, 1])\n",
    "axes[0, 1].set_title('Distribusi Sepal Width')\n",
    "\n",
    "sns.histplot(combined_df['petal length'], kde=True, ax=axes[1, 0])\n",
    "axes[1, 0].set_title('Distribusi Petal Length')\n",
    "\n",
    "sns.histplot(combined_df['petal width'], kde=True, ax=axes[1, 1])\n",
    "axes[1, 1].set_title('Distribusi Petal Width')\n",
    "\n",
    "# Menampilkan plot\n",
    "plt.tight_layout()  # Mengatur layout agar tidak tumpang tindih\n",
    "plt.show()\n"
   ]
  },
  {
   "cell_type": "markdown",
   "metadata": {
    "id": "0iezkD_S4IZJ"
   },
   "source": [
    "### Data Understanding dan Jenis-Jenis Data\n",
    "\n",
    "Data understanding adalah langkah pertama dalam analisis data yang bertujuan untuk memahami karakteristik data yang akan dianalisis. Dalam proses ini, kita mencoba untuk mengeksplorasi dan memeriksa data yang tersedia untuk mendapatkan pemahaman yang lebih dalam tentang strukturnya. Berikut adalah beberapa jenis data yang umumnya ditemukan dalam proses analisis:\n",
    "\n",
    "1. **Data Kategorikal (Categorical Data)**:\n",
    "   - Jenis data ini berisi kategori atau label, dan tidak dapat diukur secara numerik. Contoh: Jenis kelamin (pria/wanita), warna (merah, hijau, biru).\n",
    "   - **Nominal**: Kategori tanpa urutan. Contoh: Warna, jenis kelamin.\n",
    "   - **Ordinal**: Kategori dengan urutan tertentu. Contoh: Skala kepuasan pelanggan (sangat tidak puas, tidak puas, puas, sangat puas).\n",
    "\n",
    "2. **Data Numerik (Numerical Data)**:\n",
    "   - Jenis data ini berisi angka dan bisa diukur serta dihitung.\n",
    "   - **Diskrit**: Data numerik yang hanya dapat mengambil nilai tertentu. Contoh: Jumlah anak dalam keluarga.\n",
    "   - **Kontinu**: Data numerik yang dapat mengambil nilai dalam rentang tertentu. Contoh: Berat badan, suhu.\n",
    "\n",
    "3. **Data Teks (Text Data)**:\n",
    "   - Data yang berbentuk teks, seperti email, komentar, atau tweet. Data ini sering digunakan dalam analisis sentimen atau pemrosesan bahasa alami.\n",
    "\n",
    "4. **Data Waktu (Time Series Data)**:\n",
    "   - Data yang terorganisir dalam urutan waktu. Contoh: Data suhu per jam, data penjualan per hari.\n",
    "\n",
    "5. **Data Geospasial (Spatial Data)**:\n",
    "   - Data yang berkaitan dengan lokasi dan posisi geografi, seperti koordinat latitude dan longitude.\n",
    "\n",
    "---\n",
    "\n",
    "### Deteksi Outlier dengan KNN (K-Nearest Neighbors) menggunakan Data Iris yang Sudah Diubah\n",
    "\n",
    "**Outlier Detection menggunakan KNN** adalah metode yang digunakan untuk mendeteksi data yang berada jauh dari sebagian besar data lainnya. Dalam konteks KNN, outlier dianggap sebagai titik yang jaraknya lebih jauh dibandingkan dengan titik-titik lainnya dalam ruang fitur. KNN mendeteksi outlier berdasarkan kedekatannya dengan titik data lainnya.\n",
    "\n",
    "#### Konsep Dasar KNN untuk Deteksi Outlier:\n",
    "- **K-Nearest Neighbors (KNN)** adalah algoritma yang digunakan untuk mengklasifikasikan data berdasarkan kedekatannya dengan data lain.\n",
    "- Dalam deteksi outlier, kita mengukur jarak antara titik data yang diuji dengan titik data lainnya, dan jika titik tersebut memiliki jarak yang lebih jauh dari titik data lainnya, maka titik tersebut dianggap sebagai outlier.\n",
    "- Sebagai contoh, jika sebuah titik memiliki jarak yang lebih besar dari titik data lainnya, dan jika tidak memiliki cukup banyak tetangga dalam radius tertentu, maka titik tersebut bisa dianggap sebagai outlier.\n",
    "\n",
    "#### Langkah-langkah Deteksi Outlier dengan KNN:\n",
    "1. **Siapkan Data Iris**:\n",
    "   - Ambil dataset Iris yang sering digunakan dalam analisis machine learning. Dataset ini memiliki fitur numerik seperti panjang dan lebar kelopak bunga serta panjang dan lebar daun dari tiga spesies bunga iris.\n",
    "\n",
    "2. **Preprocessing dan Modifikasi Data**:\n",
    "   - Ubah data Iris sesuai kebutuhan, misalnya dengan menambah noise atau mengubah beberapa nilai agar lebih menantang untuk mendeteksi outlier.\n",
    "\n",
    "3. **Menggunakan KNN untuk Deteksi Outlier**:\n",
    "   - Tentukan nilai `k` (jumlah tetangga terdekat).\n",
    "   - Hitung jarak antara setiap titik data dan tetangga terdekatnya.\n",
    "   - Tentukan threshold jarak untuk mendeteksi outlier. Jika jarak titik data lebih besar dari threshold ini, maka data tersebut dianggap sebagai outlier."
   ]
  },
  {
   "cell_type": "code",
   "execution_count": 8,
   "metadata": {
    "colab": {
     "base_uri": "https://localhost:8080/",
     "height": 489
    },
    "id": "fBinGm45xndG",
    "outputId": "415d4a26-c7ec-44a6-c032-15cd2fac26ad"
   },
   "outputs": [
    {
     "data": {
      "image/png": "[encoded data removed]",
      "text/plain": [
       "<Figure size 640x480 with 1 Axes>"
      ]
     },
     "metadata": {},
     "output_type": "display_data"
    },
    {
     "name": "stdout",
     "output_type": "stream",
     "text": [
      "Outlier Detected: [ 41  98 106 117 118 131 150 151]\n"
     ]
    }
   ],
   "source": [
    "import numpy as np\n",
    "from sklearn.datasets import load_iris\n",
    "from sklearn.neighbors import NearestNeighbors\n",
    "# Load data Iris\n",
    "data = load_iris()\n",
    "X = data.data\n",
    "y = data.target\n",
    "\n",
    "# Modifikasi data untuk menambah outlier (misalnya menambahkan beberapa nilai ekstrem)\n",
    "X_with_outliers = np.vstack([X, np.array([[8, 3, 5, 2], [10, 3.5, 7, 2.5]])])\n",
    "\n",
    "# Menggunakan KNN untuk deteksi outlier\n",
    "knn = NearestNeighbors(n_neighbors=5)\n",
    "knn.fit(X_with_outliers)\n",
    "\n",
    "# Menghitung jarak ke 5 tetangga terdekat\n",
    "distances, indices = knn.kneighbors(X_with_outliers)\n",
    "\n",
    "# Menentukan threshold jarak untuk mendeteksi outlier\n",
    "distance_threshold = np.percentile(distances[:, -1], 95)\n",
    "\n",
    "# Deteksi outlier\n",
    "outliers = distances[:, -1] > distance_threshold\n",
    "\n",
    "# Visualisasi data\n",
    "plt.scatter(X_with_outliers[:, 0], X_with_outliers[:, 1], c=outliers, cmap='coolwarm')\n",
    "plt.title('Deteksi Outlier menggunakan KNN')\n",
    "plt.xlabel('Fitur 1')\n",
    "plt.ylabel('Fitur 2')\n",
    "plt.show()\n",
    "\n",
    "# Output hasil deteksi outlier\n",
    "print(\"Outlier Detected:\", np.where(outliers)[0])"
   ]
  },
  {
   "cell_type": "code",
   "execution_count": 9,
   "metadata": {
    "colab": {
     "base_uri": "https://localhost:8080/"
    },
    "id": "54_FHerC0AMI",
    "outputId": "f3d490a2-e118-4f27-867e-4ecdf48fd825"
   },
   "outputs": [
    {
     "name": "stdout",
     "output_type": "stream",
     "text": [
      "Jumlah outlier terdeteksi: 152\n",
      "Index outlier: [False False False False False False False False False False False False\n",
      " False False False False False False False False False False False False\n",
      " False False False False False False False False False False False False\n",
      " False False False False False  True False False False False False False\n",
      " False False False False False False False False False False False False\n",
      " False False False False False False False False False False False False\n",
      " False False False False False False False False False False False False\n",
      " False False False False False False False False False False False False\n",
      " False False  True False False False False False False False  True False\n",
      " False False False False False False False False False  True  True False\n",
      " False False False False False False False False False False False  True\n",
      " False False False False False False False False False False False False\n",
      " False False False False False False  True  True]\n"
     ]
    }
   ],
   "source": [
    "# Menampilkan hasil\n",
    "print(\"Jumlah outlier terdeteksi:\", len(outliers))\n",
    "print(\"Index outlier:\", outliers)"
   ]
  },
  {
   "cell_type": "code",
   "execution_count": 10,
   "metadata": {
    "colab": {
     "base_uri": "https://localhost:8080/"
    },
    "id": "uTbTzVb82fnA",
    "outputId": "624d8bc5-6be4-4941-950d-e194025ea350"
   },
   "outputs": [
    {
     "name": "stdout",
     "output_type": "stream",
     "text": [
      "Panjang array boolean (outliers) : 152\n",
      "Panjang baris dataframe : 150\n"
     ]
    }
   ],
   "source": [
    "print(\"Panjang array boolean (outliers) :\" , len(outliers))\n",
    "print(\"Panjang baris dataframe :\" , len(combined_df))"
   ]
  },
  {
   "cell_type": "code",
   "execution_count": 13,
   "metadata": {
    "colab": {
     "base_uri": "https://localhost:8080/"
    },
    "id": "SaoXdI3Z259o",
    "outputId": "ca4d171a-3c51-4962-c9ba-460648060693"
   },
   "outputs": [
    {
     "name": "stdout",
     "output_type": "stream",
     "text": [
      "Sampel Data yang Terdeteksi sebagai Outlier pada Dataset IRIS\n",
      "      id            Class  petal length  petal width  sepal length  \\\n",
      "41    42      Iris-setosa           1.3          0.3           4.5   \n",
      "98    99  Iris-versicolor           3.0          1.1           5.1   \n",
      "106  107   Iris-virginica           4.5          1.7           4.9   \n",
      "117  118   Iris-virginica           6.7          2.2           7.7   \n",
      "118  119   Iris-virginica           6.9          2.3           7.7   \n",
      "131  132   Iris-virginica           6.4          2.0           7.9   \n",
      "\n",
      "     sepal width  \n",
      "41           2.3  \n",
      "98           2.5  \n",
      "106          2.5  \n",
      "117          3.8  \n",
      "118          2.6  \n",
      "131          3.8  \n"
     ]
    }
   ],
   "source": [
    "print(\"Sampel Data yang Terdeteksi sebagai Outlier pada Dataset IRIS\")\n",
    "# Menampilkan sampel yang terdeteksi sebagai outlier\n",
    "outliers = outliers[:len(combined_df)] # Pastikan array outliers memiliki panjang yang sama dengan dataframe\n",
    "\n",
    "# Sekarang gunakan indeks boolean untuk memilih baris\n",
    "outliers_data = combined_df[outliers]\n",
    "print(outliers_data)\n"
   ]
  },
  {
   "cell_type": "markdown",
   "metadata": {
    "id": "BEeoUfJ94Xdt"
   },
   "source": [
    "#### Penjelasan:\n",
    "1. **Memuat Dataset Iris**: Menggunakan dataset Iris yang tersedia di `sklearn`.\n",
    "2. **Menambah Outlier**: Dua nilai ekstrem ditambahkan ke dataset untuk menggambarkan outlier.\n",
    "3. **KNN untuk Deteksi Outlier**: KNN digunakan dengan 5 tetangga terdekat untuk menghitung jarak antar data dan mengidentifikasi outlier berdasarkan jarak.\n",
    "4. **Threshold Jarak**: Threshold ditentukan dengan mengambil persentil 95 dari jarak-jarak tersebut. Titik data yang jaraknya lebih besar dari nilai ini dianggap sebagai outlier.\n",
    "5. **Visualisasi**: Menampilkan plot 2D dari data, di mana titik-titik yang dianggap outlier diberi warna berbeda.\n",
    "\n",
    "Dengan pendekatan ini, kita dapat mendeteksi titik-titik yang jauh berbeda dari mayoritas data dan mengklasifikasikannya sebagai outlier."
   ]
  }
 ],
 "metadata": {
  "colab": {
   "provenance": []
  },
  "kernelspec": {
   "display_name": "Python 3",
   "name": "python3"
  },
  "language_info": {
   "codemirror_mode": {
    "name": "ipython",
    "version": 3
   },
   "file_extension": ".py",
   "mimetype": "text/x-python",
   "name": "python",
   "nbconvert_exporter": "python",
   "pygments_lexer": "ipython3",
   "version": "3.12.1"
  }
 },
 "nbformat": 4,
 "nbformat_minor": 0
}